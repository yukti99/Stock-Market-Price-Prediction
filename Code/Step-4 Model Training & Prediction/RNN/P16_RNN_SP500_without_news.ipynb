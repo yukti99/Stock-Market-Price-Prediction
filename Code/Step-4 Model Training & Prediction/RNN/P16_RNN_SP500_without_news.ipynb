{
  "nbformat": 4,
  "nbformat_minor": 0,
  "metadata": {
    "colab": {
      "name": "P16_RNN_SP500_without_news.ipynb",
      "provenance": [],
      "collapsed_sections": []
    },
    "kernelspec": {
      "name": "python3",
      "display_name": "Python 3"
    }
  },
  "cells": [
    {
      "cell_type": "code",
      "metadata": {
        "id": "79ZSnfqqNnyF"
      },
      "source": [
        "# Importing Important libraries \n",
        "\n",
        "# For data cleaning and visualization\n",
        "import math\n",
        "import pandas as pd\n",
        "import numpy as np\n",
        "from numpy import array\n",
        "from datetime import date, datetime, timedelta\n",
        "\n",
        "\n",
        "# For model\n",
        "from numpy import newaxis\n",
        "import keras\n",
        "from keras import optimizers, callbacks\n",
        "from keras.layers import InputLayer, Input, Masking, Dense, Activation, Dropout, LSTM\n",
        "from keras.models import Sequential, load_model\n",
        "from keras.callbacks import EarlyStopping, ModelCheckpoint\n",
        "from keras import optimizers, callbacks\n",
        "\n",
        "from keras.layers import Dense, SimpleRNN, GRU\n",
        "from keras.optimizers import SGD\n",
        "\n",
        "# For saving the model\n",
        "import pickle\n",
        "\n",
        "# For Prediction \n",
        "from numpy import newaxis\n",
        "\n",
        "# For model Evaluation\n",
        "from sklearn import metrics\n",
        "from sklearn.metrics import mean_squared_error\n",
        "\n",
        "# For Plotting \n",
        "import matplotlib.pyplot as plt\n",
        "from pylab import rcParams "
      ],
      "execution_count": 17,
      "outputs": []
    },
    {
      "cell_type": "code",
      "metadata": {
        "id": "a8aESvUOnG0d"
      },
      "source": [
        "def create_windows(data, data_len, sequence_len=10):\n",
        "  data_windows = []\n",
        "  for i in range(data_len - sequence_len):\n",
        "    data_windows.append(data[i : i+sequence_len])\n",
        "\n",
        "  # set the type of training data     \n",
        "  data_windows = np.array(data_windows).astype(float)\n",
        "  return (data_windows)"
      ],
      "execution_count": 18,
      "outputs": []
    },
    {
      "cell_type": "code",
      "metadata": {
        "id": "tEBge57wnJNm"
      },
      "source": [
        "def Normalize_data(data_windows):\n",
        "  # number of windows formed \n",
        "  windows_no = data_windows.shape[0]\n",
        "  cols_no = data_windows.shape[2]\n",
        "\n",
        "  # initializing list to store normalized data\n",
        "  normalized_data = []\n",
        "  record_min=[]\n",
        "  record_max=[]\n",
        "\n",
        "  # normalizing begins\n",
        "  for win_index in range(windows_no):\n",
        "    normalized_window = []\n",
        "\n",
        "    for col_index in range(0,1):\n",
        "      # temporary column \n",
        "      t_col = data_windows[win_index, :, col_index]\n",
        "      t_min = min(t_col)\n",
        "      if (col_index == 0):\n",
        "        record_min.append(t_min)\n",
        "      t_col = t_col - t_min      \n",
        "      t_max = max(t_col)\n",
        "      if (col_index == 0):\n",
        "        record_max.append(t_max)\n",
        "      t_col = t_col/t_max\n",
        "      normalized_window.append(t_col)\n",
        "    \n",
        "    for col_index in range(1,  cols_no):\n",
        "      t_col = data_windows[win_index, :, col_index]\n",
        "      normalized_window.append(t_col)\n",
        "\n",
        "    normalized_window = np.array(normalized_window).T\n",
        "    normalized_data.append(normalized_window)\n",
        "\n",
        "  normalized_data=np.array(normalized_data)\n",
        "  return (normalized_data, record_max, record_min)\n"
      ],
      "execution_count": 19,
      "outputs": []
    },
    {
      "cell_type": "code",
      "metadata": {
        "id": "DwFA30a3nLDy"
      },
      "source": [
        "def plot_training_loss(model_hist):\n",
        "  # plotting the lose curve during model training\n",
        "  plt.plot(model_hist.history['loss'])\n",
        "  plt.title('Training Model loss')\n",
        "  plt.ylabel('Loss')\n",
        "  plt.xlabel('Epoch')\n",
        "  plt.legend(['train'],loc='upper left')\n",
        "  plt.show()"
      ],
      "execution_count": 20,
      "outputs": []
    },
    {
      "cell_type": "code",
      "metadata": {
        "id": "ybsRiIrBnM5h"
      },
      "source": [
        "def Model_Evaluation(actual_prices, predicted_prices):\n",
        "  # Mean Absolute Error \n",
        "  MAE = metrics.mean_absolute_error(actual_prices, predicted_prices)\n",
        "  # Mean Squared Error\n",
        "  MSE = metrics.mean_squared_error(actual_prices, predicted_prices)\n",
        "  # Root Mean Squared Error\n",
        "  RMSE = np.sqrt(metrics.mean_squared_error(actual_prices, predicted_prices))\n",
        "\n",
        "  # Mean Absolute Percentage Error in degrees\n",
        "  errors = abs(actual_prices - predicted_prices)\n",
        "  MAPE = 100 * (errors /actual_prices)\n",
        "\n",
        "  # Model Accuracy\n",
        "  Accuracy = 100 - np.mean(MAPE)\n",
        "  return (Accuracy, MAE, MSE, RMSE)"
      ],
      "execution_count": 21,
      "outputs": []
    },
    {
      "cell_type": "code",
      "metadata": {
        "id": "lsdcxVZfm6Em"
      },
      "source": [
        "def without_news(company, df):\n",
        "  len_df = df.shape[0]\n",
        "  # Data Preprocessing\n",
        "  # splitting training and testing data\n",
        "  cols = ['adj_close']\n",
        "  cols2 = ['date']\n",
        "  split = 0.85\n",
        "  i_split = int(len(df) * split)\n",
        "  data_train = df.get(cols).values[:i_split]\n",
        "  data_test  = df.get(cols).values[i_split:]\n",
        "  data_test2  = df.get(cols2).values[i_split:]\n",
        "\n",
        "  len_train  = len(data_train)\n",
        "  len_test   = len(data_test)\n",
        "  len_train_windows = None\n",
        "  # Creating Windows for Test Data\n",
        "  sequence_length=10\n",
        "  data_windows_test = create_windows(data_test,len(data_test),sequence_length)\n",
        "  # get original y_test\n",
        "  y_test_original = data_windows_test[:, -1, [0]]\n",
        "  print('y_test_original.shape',y_test_original.shape)\n",
        "\n",
        "  # Normalization of Test Data\n",
        "  normalized_data_test, record_max_test, record_min_test = Normalize_data(data_windows_test)\n",
        "\n",
        "  x_test = normalized_data_test[:, :-1]\n",
        "  y_test = normalized_data_test[:, -1,[0]]\n",
        "\n",
        "  # Train Data preparation\n",
        "  data_windows = create_windows(data_train,len(data_train),sequence_length)\n",
        "  normalized_data_train,rmax_train, rmin_train = Normalize_data(data_windows)\n",
        "\n",
        "  x_train = normalized_data_train[:, :-1]\n",
        "  y_train = normalized_data_train[:, -1,[0]]\n",
        "\n",
        "  # LSTM Model\n",
        "  # Setting the parameter  \n",
        "  input_dim=x_train.shape[2] #2\n",
        "  input_timesteps=x_train.shape[1] #9\n",
        " \n",
        "  # Simple RNN model\n",
        "  model = Sequential()\n",
        "  model.add(SimpleRNN(units = 60, activation = 'relu',return_sequences = True,input_shape=(input_timesteps, input_dim)))\n",
        "  model.add(Dropout(0.2))\n",
        "  model.add(SimpleRNN(units = 60,activation = 'relu', return_sequences = True))\n",
        "  model.add(Dropout(0.2))\n",
        "  model.add(SimpleRNN(units = 80, activation = 'relu',return_sequences = True))\n",
        "  model.add(Dropout(0.2))\n",
        "  model.add(SimpleRNN(units = 120,activation = 'relu', return_sequences = True))\n",
        "  model.add(Dropout(0.2))\n",
        "  model.add(Dense(units = 1))\n",
        "  model.compile(optimizer='adam', loss = 'mean_squared_error', metrics=['mean_squared_error'])\n",
        "  hist = model.fit(x_train, y_train, epochs=15, batch_size=32)\n",
        "  plot_training_loss(hist)\n",
        "\n",
        "  # Prediction of Test Data using the Training Model\n",
        "  # Using the trained model for prediction and check the performance metrics\n",
        "  train_predict = model.predict(x_train)\n",
        "  test_predict = model.predict(x_test)\n",
        "  # Multi-sequence Prediction\n",
        "  # predicting x_test\n",
        "  prediction_len = 1\n",
        "  # x_test needs to be predicted \n",
        "  data = x_test\n",
        "  predicted_vals = []\n",
        "  window_size = sequence_length\n",
        "  pre_win_no = int(len(data)/prediction_len)\n",
        "  for i in range(pre_win_no):\n",
        "    # access x_test window by window\n",
        "    curr_frame = data[i*prediction_len]\n",
        "    pred = []\n",
        "    for j in range(prediction_len):\n",
        "      # increase the dimension of current frame by one using newaxis, so that it can be fed to model for prediction\n",
        "      model_predict = model.predict(curr_frame[newaxis,:,:])[0]\n",
        "      pred.append(model_predict)\n",
        "      # shift the current frame forward\n",
        "      curr_frame = curr_frame[1:]\n",
        "      # insert the currently predicted value in the frame\n",
        "      # add the new predicted value at the end of window frame \n",
        "      curr_frame = np.insert(curr_frame, [window_size-2], pred[-1], axis=0)\n",
        "    predicted_vals.append(pred)\n",
        "\n",
        "  # Denormalizing the Prediction Results to get Predicted Adj Close Price\n",
        "\n",
        "  pred_prices = []\n",
        "  len_pre_win = int(len(data)/prediction_len)\n",
        "  cnt=0\n",
        "  for i in range(0,len_pre_win):\n",
        "      for j in range(0,prediction_len):\n",
        "        pred_prices.append(predicted_vals[i][j][0]*record_max_test[cnt]+record_min_test[cnt])\n",
        "        cnt = cnt+1\n",
        "\n",
        "\n",
        "  # Comparing Actual and Predicted Prices\n",
        "  actual_prices = []\n",
        "  for i in y_test_original.tolist():\n",
        "    actual_prices.append(i[0])\n",
        "  dates = []\n",
        "  for i in data_test2.tolist():\n",
        "    dates.append(i[0])\n",
        "  dates = dates[len(dates)-len(actual_prices):]\n",
        "  res = { 'date':dates,\n",
        "        'Actual': actual_prices,\n",
        "        'Predicted': pred_prices\n",
        "        }\n",
        "  df_compare = pd.DataFrame(res,columns = ['date','Actual','Predicted'])\n",
        "  print(df_compare)\n",
        " \n",
        "  # Performance Evaluation\n",
        "  actual_prices = df_compare['Actual']\n",
        "  predicted_prices = df_compare['Predicted']  \n",
        "\n",
        "  Accuracy, MAE, MSE, RMSE = Model_Evaluation(actual_prices, predicted_prices)\n",
        "  print(\"\\n-----Model Evaluation-----------------------------------------------------\\n\")\n",
        "  print(\"LSTM Model Loss = \", model.evaluate(x_test, y_test, verbose = 2))\n",
        "  print(\"Model Accuracy = \", Accuracy)\n",
        "  print(\"Mean Absolute Error = \", MAE,\" degrees\")\n",
        "  print(\"Mean Squared Error = \", MSE)\n",
        "  print(\"Root Mean Squared Error = \", RMSE)\n",
        "  print(\"\\n--------------------------------------------------------------------------\\n\")\n",
        "\n",
        "  \n",
        "\n",
        "  return (hist, model, df_compare, Accuracy, MAE, MSE, RMSE)\n"
      ],
      "execution_count": 28,
      "outputs": []
    },
    {
      "cell_type": "code",
      "metadata": {
        "colab": {
          "base_uri": "https://localhost:8080/",
          "height": 1000
        },
        "id": "6fobw863j_BJ",
        "outputId": "ab6e05d8-6439-4738-eccf-e3d545699e23"
      },
      "source": [
        "company=\"SP500\"\n",
        "df_name = \"stock_and_news_SP500.csv\"\n",
        "df = pd.read_csv(df_name, index_col=0)\n",
        "hist, model, df_compare, Accuracy, MAE, MSE, RMSE = without_news(company, df)"
      ],
      "execution_count": 29,
      "outputs": [
        {
          "output_type": "stream",
          "text": [
            "y_test_original.shape (323, 1)\n",
            "Epoch 1/15\n",
            "59/59 [==============================] - 4s 12ms/step - loss: 0.2484 - mean_squared_error: 0.2484\n",
            "Epoch 2/15\n",
            "59/59 [==============================] - 1s 13ms/step - loss: 0.1151 - mean_squared_error: 0.1151\n",
            "Epoch 3/15\n",
            "59/59 [==============================] - 1s 12ms/step - loss: 0.1070 - mean_squared_error: 0.1070\n",
            "Epoch 4/15\n",
            "59/59 [==============================] - 1s 12ms/step - loss: 0.1010 - mean_squared_error: 0.1010\n",
            "Epoch 5/15\n",
            "59/59 [==============================] - 1s 12ms/step - loss: 0.0962 - mean_squared_error: 0.0962\n",
            "Epoch 6/15\n",
            "59/59 [==============================] - 1s 12ms/step - loss: 0.1005 - mean_squared_error: 0.1005\n",
            "Epoch 7/15\n",
            "59/59 [==============================] - 1s 12ms/step - loss: 0.0986 - mean_squared_error: 0.0986\n",
            "Epoch 8/15\n",
            "59/59 [==============================] - 1s 12ms/step - loss: 0.0971 - mean_squared_error: 0.0971\n",
            "Epoch 9/15\n",
            "59/59 [==============================] - 1s 12ms/step - loss: 0.0911 - mean_squared_error: 0.0911\n",
            "Epoch 10/15\n",
            "59/59 [==============================] - 1s 12ms/step - loss: 0.0914 - mean_squared_error: 0.0914\n",
            "Epoch 11/15\n",
            "59/59 [==============================] - 1s 12ms/step - loss: 0.0866 - mean_squared_error: 0.0866\n",
            "Epoch 12/15\n",
            "59/59 [==============================] - 1s 13ms/step - loss: 0.0896 - mean_squared_error: 0.0896\n",
            "Epoch 13/15\n",
            "59/59 [==============================] - 1s 12ms/step - loss: 0.0863 - mean_squared_error: 0.0863\n",
            "Epoch 14/15\n",
            "59/59 [==============================] - 1s 12ms/step - loss: 0.0873 - mean_squared_error: 0.0873\n",
            "Epoch 15/15\n",
            "59/59 [==============================] - 1s 12ms/step - loss: 0.0859 - mean_squared_error: 0.0859\n"
          ],
          "name": "stdout"
        },
        {
          "output_type": "display_data",
          "data": {
            "image/png": "[encoded data removed]",
            "text/plain": [
              "<Figure size 432x288 with 1 Axes>"
            ]
          },
          "metadata": {
            "tags": [],
            "needs_background": "light"
          }
        },
        {
          "output_type": "stream",
          "text": [
            "           date   Actual    Predicted\n",
            "0    2018-10-31  2682.63  [2705.8347]\n",
            "1    2018-11-01  2711.74  [2690.2883]\n",
            "2    2018-11-02  2740.37  [2689.9038]\n",
            "3    2018-11-05  2723.06   [2685.328]\n",
            "4    2018-11-06  2738.31   [2679.487]\n",
            "..          ...      ...          ...\n",
            "318  2020-02-07  3345.78  [3293.1255]\n",
            "319  2020-02-10  3327.71  [3311.4375]\n",
            "320  2020-02-11  3352.09  [3308.2144]\n",
            "321  2020-02-12  3357.75   [3313.693]\n",
            "322  2020-02-13  3379.45   [3327.378]\n",
            "\n",
            "[323 rows x 3 columns]\n",
            "\n",
            "-----Model Evaluation-----------------------------------------------------\n",
            "\n",
            "11/11 - 1s - loss: 0.0774 - mean_squared_error: 0.0774\n",
            "LSTM Model Loss =  [0.0773753970861435, 0.0773753970861435]\n",
            "Model Accuracy =  [99.06025]\n",
            "Mean Absolute Error =  26.542947223297222  degrees\n",
            "Mean Squared Error =  1163.7146592751503\n",
            "Root Mean Squared Error =  34.11326221977532\n",
            "\n",
            "--------------------------------------------------------------------------\n",
            "\n"
          ],
          "name": "stdout"
        }
      ]
    },
    {
      "cell_type": "code",
      "metadata": {
        "id": "sVv-qTavrvfR",
        "colab": {
          "base_uri": "https://localhost:8080/",
          "height": 77
        },
        "outputId": "bb3bceef-c573-4790-ed3c-25ba739c0807"
      },
      "source": [
        "results = pd.DataFrame(columns=('company','MAE','MSE','Accuracy','RMSE'))\n",
        "results = results.append({'company': 'SP500', 'MAE': MAE,'MSE':MSE, 'Accuracy': Accuracy, 'RMSE':RMSE}, ignore_index=True)\n",
        "results"
      ],
      "execution_count": 30,
      "outputs": [
        {
          "output_type": "execute_result",
          "data": {
            "text/html": [
              "<div>\n",
              "<style scoped>\n",
              "    .dataframe tbody tr th:only-of-type {\n",
              "        vertical-align: middle;\n",
              "    }\n",
              "\n",
              "    .dataframe tbody tr th {\n",
              "        vertical-align: top;\n",
              "    }\n",
              "\n",
              "    .dataframe thead th {\n",
              "        text-align: right;\n",
              "    }\n",
              "</style>\n",
              "<table border=\"1\" class=\"dataframe\">\n",
              "  <thead>\n",
              "    <tr style=\"text-align: right;\">\n",
              "      <th></th>\n",
              "      <th>company</th>\n",
              "      <th>MAE</th>\n",
              "      <th>MSE</th>\n",
              "      <th>Accuracy</th>\n",
              "      <th>RMSE</th>\n",
              "    </tr>\n",
              "  </thead>\n",
              "  <tbody>\n",
              "    <tr>\n",
              "      <th>0</th>\n",
              "      <td>SP500</td>\n",
              "      <td>26.542947</td>\n",
              "      <td>1163.714659</td>\n",
              "      <td>[99.06025]</td>\n",
              "      <td>34.113262</td>\n",
              "    </tr>\n",
              "  </tbody>\n",
              "</table>\n",
              "</div>"
            ],
            "text/plain": [
              "  company        MAE          MSE    Accuracy       RMSE\n",
              "0   SP500  26.542947  1163.714659  [99.06025]  34.113262"
            ]
          },
          "metadata": {
            "tags": []
          },
          "execution_count": 30
        }
      ]
    },
    {
      "cell_type": "code",
      "metadata": {
        "id": "T9aLmR4Ro0PM"
      },
      "source": [
        "now = datetime.now()\n",
        "current_time = now.strftime(\"%H%M%S\")\n",
        "name = \"P16_RNN_SP500_without_news\"+current_time+\".csv\"\n",
        "results.to_csv(name)"
      ],
      "execution_count": 33,
      "outputs": []
    }
  ]
}